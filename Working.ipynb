{
 "cells": [
  {
   "metadata": {},
   "cell_type": "markdown",
   "source": "# Importação das bibliotecas de trabalho",
   "id": "3b94074482c75496"
  },
  {
   "metadata": {
    "collapsed": true,
    "ExecuteTime": {
     "end_time": "2025-01-20T12:32:22.460236Z",
     "start_time": "2025-01-20T12:32:22.094151Z"
    }
   },
   "cell_type": "code",
   "outputs": [],
   "execution_count": 2,
   "source": "import pandas as pd",
   "id": "initial_id"
  },
  {
   "metadata": {},
   "cell_type": "markdown",
   "source": "# Importação da lista de fontes",
   "id": "fe40c3782eabb946"
  },
  {
   "metadata": {
    "ExecuteTime": {
     "end_time": "2025-01-20T12:33:54.333260Z",
     "start_time": "2025-01-20T12:33:54.322681Z"
    }
   },
   "cell_type": "code",
   "source": "source_list = pd.read_csv('./sources/sources_list.csv',)",
   "id": "b14d46fe621eac89",
   "outputs": [],
   "execution_count": 6
  },
  {
   "metadata": {
    "ExecuteTime": {
     "end_time": "2025-01-20T12:34:00.602970Z",
     "start_time": "2025-01-20T12:34:00.585437Z"
    }
   },
   "cell_type": "code",
   "source": "source_list.head()",
   "id": "426ebf997a45d76b",
   "outputs": [
    {
     "data": {
      "text/plain": [
       "   TYPE                                     LINK  SOURCE_NAME       ADD_DATE\n",
       "0     1            \"https://kpmgbrasil.gupy.io/\"           \"\"   \"20-01-2025\"\n",
       "1     1             \"https://almapbbdo.gupy.io/\"           \"\"   \"20-01-2025\"\n",
       "2     1                   \"https://cea.gupy.io/\"           \"\"   \"20-01-2025\"\n",
       "3     1   \"https://lideresoperacionais.gupy.io/\"           \"\"   \"20-01-2025\"\n",
       "4     1           \"https://globalhitss.gupy.io/\"           \"\"   \"20-01-2025\""
      ],
      "text/html": [
       "<div>\n",
       "<style scoped>\n",
       "    .dataframe tbody tr th:only-of-type {\n",
       "        vertical-align: middle;\n",
       "    }\n",
       "\n",
       "    .dataframe tbody tr th {\n",
       "        vertical-align: top;\n",
       "    }\n",
       "\n",
       "    .dataframe thead th {\n",
       "        text-align: right;\n",
       "    }\n",
       "</style>\n",
       "<table border=\"1\" class=\"dataframe\">\n",
       "  <thead>\n",
       "    <tr style=\"text-align: right;\">\n",
       "      <th></th>\n",
       "      <th>TYPE</th>\n",
       "      <th>LINK</th>\n",
       "      <th>SOURCE_NAME</th>\n",
       "      <th>ADD_DATE</th>\n",
       "    </tr>\n",
       "  </thead>\n",
       "  <tbody>\n",
       "    <tr>\n",
       "      <th>0</th>\n",
       "      <td>1</td>\n",
       "      <td>\"https://kpmgbrasil.gupy.io/\"</td>\n",
       "      <td>\"\"</td>\n",
       "      <td>\"20-01-2025\"</td>\n",
       "    </tr>\n",
       "    <tr>\n",
       "      <th>1</th>\n",
       "      <td>1</td>\n",
       "      <td>\"https://almapbbdo.gupy.io/\"</td>\n",
       "      <td>\"\"</td>\n",
       "      <td>\"20-01-2025\"</td>\n",
       "    </tr>\n",
       "    <tr>\n",
       "      <th>2</th>\n",
       "      <td>1</td>\n",
       "      <td>\"https://cea.gupy.io/\"</td>\n",
       "      <td>\"\"</td>\n",
       "      <td>\"20-01-2025\"</td>\n",
       "    </tr>\n",
       "    <tr>\n",
       "      <th>3</th>\n",
       "      <td>1</td>\n",
       "      <td>\"https://lideresoperacionais.gupy.io/\"</td>\n",
       "      <td>\"\"</td>\n",
       "      <td>\"20-01-2025\"</td>\n",
       "    </tr>\n",
       "    <tr>\n",
       "      <th>4</th>\n",
       "      <td>1</td>\n",
       "      <td>\"https://globalhitss.gupy.io/\"</td>\n",
       "      <td>\"\"</td>\n",
       "      <td>\"20-01-2025\"</td>\n",
       "    </tr>\n",
       "  </tbody>\n",
       "</table>\n",
       "</div>"
      ]
     },
     "execution_count": 8,
     "metadata": {},
     "output_type": "execute_result"
    }
   ],
   "execution_count": 8
  },
  {
   "metadata": {},
   "cell_type": "code",
   "outputs": [],
   "execution_count": null,
   "source": "",
   "id": "3ad3bdf39a4c0512"
  }
 ],
 "metadata": {
  "kernelspec": {
   "display_name": "Python 3",
   "language": "python",
   "name": "python3"
  },
  "language_info": {
   "codemirror_mode": {
    "name": "ipython",
    "version": 2
   },
   "file_extension": ".py",
   "mimetype": "text/x-python",
   "name": "python",
   "nbconvert_exporter": "python",
   "pygments_lexer": "ipython2",
   "version": "2.7.6"
  }
 },
 "nbformat": 4,
 "nbformat_minor": 5
}
